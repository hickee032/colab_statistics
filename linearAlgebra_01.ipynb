{
  "nbformat": 4,
  "nbformat_minor": 0,
  "metadata": {
    "colab": {
      "provenance": [],
      "authorship_tag": "ABX9TyPshqUtS1Tb7flOCNP9Mmbi",
      "include_colab_link": true
    },
    "kernelspec": {
      "name": "python3",
      "display_name": "Python 3"
    },
    "language_info": {
      "name": "python"
    }
  },
  "cells": [
    {
      "cell_type": "markdown",
      "metadata": {
        "id": "view-in-github",
        "colab_type": "text"
      },
      "source": [
        "<a href=\"https://colab.research.google.com/github/hickee032/algebra/blob/main/linearAlgebra_01.ipynb\" target=\"_parent\"><img src=\"https://colab.research.google.com/assets/colab-badge.svg\" alt=\"Open In Colab\"/></a>"
      ]
    },
    {
      "cell_type": "markdown",
      "source": [
        "version 확인"
      ],
      "metadata": {
        "id": "N7RwHgABXDuf"
      }
    },
    {
      "cell_type": "code",
      "execution_count": 3,
      "metadata": {
        "colab": {
          "base_uri": "https://localhost:8080/"
        },
        "id": "ppWfs3Q1S6Cf",
        "outputId": "199ca0b9-ead5-4ea9-fcbe-cd7a4e51a5a2"
      },
      "outputs": [
        {
          "output_type": "stream",
          "name": "stdout",
          "text": [
            "2.11.0\n"
          ]
        }
      ],
      "source": [
        "import tensorflow as tf\n",
        "print(tf.__version__)"
      ]
    },
    {
      "cell_type": "markdown",
      "source": [
        "linear algebra_01 (선형대수)"
      ],
      "metadata": {
        "id": "2FUvVEBvVIWm"
      }
    },
    {
      "cell_type": "code",
      "source": [],
      "metadata": {
        "id": "U-VL-G0-UtpA"
      },
      "execution_count": null,
      "outputs": []
    }
  ]
}