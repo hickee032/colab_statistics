{
  "nbformat": 4,
  "nbformat_minor": 0,
  "metadata": {
    "colab": {
      "provenance": []
    },
    "kernelspec": {
      "name": "python3",
      "display_name": "Python 3"
    },
    "language_info": {
      "name": "python"
    }
  },
  "cells": [
    {
      "cell_type": "markdown",
      "source": [
        "일반적인 방법"
      ],
      "metadata": {
        "id": "kW1ICBEA9HCY"
      }
    },
    {
      "cell_type": "code",
      "execution_count": null,
      "metadata": {
        "colab": {
          "base_uri": "https://localhost:8080/"
        },
        "id": "wZXJILT-6hEJ",
        "outputId": "9581f353-4e95-48b0-ba26-f82d93a4624d"
      },
      "outputs": [
        {
          "output_type": "stream",
          "name": "stdout",
          "text": [
            "평균 1 :  5.5\n",
            "분산 1 :  8.25\n",
            "표준편차 1 :  2.8722813232690143\n"
          ]
        }
      ],
      "source": [
        "import math\n",
        "\n",
        "vals = [i+1 for i in range(10)]\n",
        "mean = sum(vals)/ len(vals)\n",
        "print('평균 1 : ',mean)\n",
        "\n",
        "vsum = 0\n",
        "for val in vals:\n",
        "  vsum+=(val-mean)**2\n",
        "var_i = vsum/len(vals)\n",
        "print('분산 1 : ', var_i)\n",
        "std = math.sqrt(var_i)\n",
        "print('표준편차 1 : ', std)"
      ]
    },
    {
      "cell_type": "markdown",
      "source": [
        "numpy 사용"
      ],
      "metadata": {
        "id": "KevmZEBv9NBG"
      }
    },
    {
      "cell_type": "code",
      "source": [
        "import numpy as np\n",
        "p_mean = np.mean(vals)\n",
        "print('평균 2 :', p_mean)\n",
        "p_var = np.var(vals)\n",
        "print('분산 2 :', p_var)\n",
        "p_std = np.std(vals)\n",
        "print('표준편차 2 : ', p_std)"
      ],
      "metadata": {
        "colab": {
          "base_uri": "https://localhost:8080/"
        },
        "id": "Ym3T6JmP9QEA",
        "outputId": "980842de-810e-4a48-a177-d6e4d2668edc"
      },
      "execution_count": null,
      "outputs": [
        {
          "output_type": "stream",
          "name": "stdout",
          "text": [
            "평균 2 : 5.5\n",
            "분산 2 : 8.25\n",
            "표준편차 2 :  2.8722813232690143\n"
          ]
        }
      ]
    },
    {
      "cell_type": "code",
      "source": [
        "import seaborn as sns\n",
        "import matplotlib.pyplot as plt\n",
        "\n",
        "np.random.seed(0) # seed 라인을 다른곳에서 입력하면 매 실행시 마다 다른 랜덤데이터가 된다\n",
        "\n",
        "x= np.random.normal(size=21)  # 21개의 랜덤값\n",
        "print('데이터 : ',x)\n",
        "bins = np.linspace(-4,4,17)\n",
        "print('구간 :', bins)\n",
        "sns.displot(x,rug=True,kde=True,bins=bins)  # rug = x축위에 작은 선 , bins = 구간\n",
        "plt.title('histogram data distribution') # 히스토그램 데이터 분포\n",
        "plt.xlabel('x')\n",
        "plt.show()\n",
        "\n",
        "print('평균 값 : ', np.mean(x))\n",
        "print('중앙 값 : ', np.median(x))\n",
        "ns,_ = np.histogram(x,bins=bins)\n",
        "m_bin = np.argmax(ns)\n",
        "print(f'최빈구간 : {bins[m_bin]} - {bins[m_bin+1]}')"
      ],
      "metadata": {
        "colab": {
          "base_uri": "https://localhost:8080/",
          "height": 564
        },
        "id": "ETIFejXg-j7y",
        "outputId": "7fdf352b-3237-478c-a19c-db819b514909"
      },
      "execution_count": 11,
      "outputs": [
        {
          "output_type": "stream",
          "name": "stdout",
          "text": [
            "데이터 :  [ 1.76405235  0.40015721  0.97873798  2.2408932   1.86755799 -0.97727788\n",
            "  0.95008842 -0.15135721 -0.10321885  0.4105985   0.14404357  1.45427351\n",
            "  0.76103773  0.12167502  0.44386323  0.33367433  1.49407907 -0.20515826\n",
            "  0.3130677  -0.85409574 -2.55298982]\n",
            "구간 : [-4.  -3.5 -3.  -2.5 -2.  -1.5 -1.  -0.5  0.   0.5  1.   1.5  2.   2.5\n",
            "  3.   3.5  4. ]\n"
          ]
        },
        {
          "output_type": "display_data",
          "data": {
            "text/plain": [
              "<Figure size 360x360 with 1 Axes>"
            ],
            "image/png": "[encoded data removed]"
          },
          "metadata": {
            "needs_background": "light"
          }
        },
        {
          "output_type": "stream",
          "name": "stdout",
          "text": [
            "평균 값 :  0.4206524782418389\n",
            "중앙 값 :  0.4001572083672233\n",
            "최빈구간 : 0.0-0.5\n"
          ]
        }
      ]
    }
  ]
}