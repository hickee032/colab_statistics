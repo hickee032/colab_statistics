{
  "nbformat": 4,
  "nbformat_minor": 0,
  "metadata": {
    "colab": {
      "provenance": [],
      "mount_file_id": "1zG6SU4jPRaQL7h0yeLUovIY1n3R0hjcc",
      "authorship_tag": "ABX9TyPu6Y+9Pb9swDzfqI48ZRX3",
      "include_colab_link": true
    },
    "kernelspec": {
      "name": "python3",
      "display_name": "Python 3"
    },
    "language_info": {
      "name": "python"
    }
  },
  "cells": [
    {
      "cell_type": "markdown",
      "metadata": {
        "id": "view-in-github",
        "colab_type": "text"
      },
      "source": [
        "<a href=\"https://colab.research.google.com/github/hickee032/colab_-statistics/blob/main/covariance.ipynb\" target=\"_parent\"><img src=\"https://colab.research.google.com/assets/colab-badge.svg\" alt=\"Open In Colab\"/></a>"
      ]
    },
    {
      "cell_type": "markdown",
      "source": [
        "공분산 covariance"
      ],
      "metadata": {
        "id": "txwDVhFupQn8"
      }
    },
    {
      "cell_type": "code",
      "source": [
        "import numpy as np\n",
        "from sklearn.datasets import load_iris\n",
        "import scipy as sp\n",
        "\n",
        "x = load_iris()  # target : 정답,  표적의 결과\n",
        "x['data']\n",
        "a = x['data']  # load_iris().data\n",
        "\n",
        "# 꽃받침의 길이 sepal, 꽃받침의 너비\n",
        "sepal_length = a[0::,0]\n",
        "print(type(sepal_length))\n",
        "sepal_width = a[0::,1]\n",
        "\n",
        "# 꽃잎의 길이 patal 꽃잎의 너비\n",
        "patal_length = a[0::,2]\n",
        "patal_width = a[0::,3]\n",
        "# 2개의 변수가 선형적으로 상관성이 있는 지 정형화한 수치\n",
        "# 공분산의 값 cov가 0보다 크면 (양수일경우) cov(a,b) > 0 : 비례관계\n",
        "# 공분산의 값 cov가 0보다 작으면 (음수이경우) cov(a,b) < 0 : 반비례관계\n",
        "# 공분산의 값 cov가 0일 경우 관계가 없다 \n",
        "\n",
        "print(np.cov(sepal_length,sepal_width))  \n",
        "# [[sepal_length 와 sepal_length , sepal_length와 sepal_width]\n",
        "#  [sepal_width와 sepal_length와 , sepal_width와 sepal_width]] 4가지의 경우를 표시 \n",
        "\n",
        "# 상관계수 (-1 ~ 1사이의 값을 사용)\n",
        "# 피어슨 상관계수\n",
        "# 출력 결과 (상관계수 , p-value)\n",
        "print('피어슨 상관계수 ',sp.stats.pearsonr(sepal_length,sepal_width))\n",
        "# 스피어만 상관계수 \n",
        "print('스피어만 상관계수 : ',  sp.stats.spearmanr(sepal_length, sepal_width))\n"
      ],
      "metadata": {
        "colab": {
          "base_uri": "https://localhost:8080/"
        },
        "id": "Ebahpcv7pWIr",
        "outputId": "9a3e1287-fb47-4a08-db0e-16df2064ceed"
      },
      "execution_count": 33,
      "outputs": [
        {
          "output_type": "stream",
          "name": "stdout",
          "text": [
            "<class 'numpy.ndarray'>\n",
            "[[ 0.68569351 -0.042434  ]\n",
            " [-0.042434    0.18997942]]\n",
            "피어슨 상관계수  (-0.11756978413300206, 0.15189826071144766)\n",
            "스피어만 상관계수 :  SpearmanrResult(correlation=-0.166777658283235, pvalue=0.04136799424884587)\n"
          ]
        }
      ]
    },
    {
      "cell_type": "markdown",
      "source": [
        "연습"
      ],
      "metadata": {
        "id": "8x51CYPRAz4N"
      }
    },
    {
      "cell_type": "code",
      "source": [
        "import pandas as pd\n",
        "import matplotlib.pyplot as plt\n",
        "df = pd.read_csv('/content/drive/MyDrive/_DATA/immigration_year.csv', sep=',', encoding='cp949')\n",
        "\n",
        "entrance = df[(df['출입국구분'] == '입국') & (df['국민외국인여부'] == '국민' )]\n",
        "departure = df[(df['출입국구분'] == '출국') & (df['국민외국인여부'] == '외국인' )]\n",
        "\n",
        "print(entrance.to_dict())\n",
        "\n",
        "entrance_list = entrance['출입국자수'].to_list()\n",
        "\n",
        "ent = np.array(entrance_list)\n",
        "print(type(ent))\n",
        "print('entrance : ', ent)\n",
        "departure_list = departure['출입국자수']\n",
        "dep = np.array(departure_list)\n",
        "print('departure : ', dep)\n",
        "\n",
        "print(np.cov(ent,dep))  \n",
        "print('피어슨 상관계수 ',sp.stats.pearsonr(ent,dep))  \n",
        "print('스피어만 상관계수 : ',  sp.stats.spearmanr(ent, dep))\n",
        "\n",
        "colors = np.random.rand(20)\n",
        "\n",
        "plt.scatter(ent, dep)\n",
        "plt.show()\n",
        "\n",
        "\n",
        "\n"
      ],
      "metadata": {
        "colab": {
          "base_uri": "https://localhost:8080/",
          "height": 493
        },
        "id": "XZDacCeTq6XM",
        "outputId": "dac33e60-0b8e-4039-99d5-234c016cb07a"
      },
      "execution_count": 46,
      "outputs": [
        {
          "output_type": "stream",
          "name": "stdout",
          "text": [
            "{'년': {0: 2011, 4: 2012, 8: 2013, 12: 2014, 16: 2015, 20: 2016, 24: 2017, 28: 2018, 32: 2019, 36: 2020, 40: 2021}, '출입국구분': {0: '입국', 4: '입국', 8: '입국', 12: '입국', 16: '입국', 20: '입국', 24: '입국', 28: '입국', 32: '입국', 36: '입국', 40: '입국'}, '국민외국인여부': {0: '국민', 4: '국민', 8: '국민', 12: '국민', 16: '국민', 20: '국민', 24: '국민', 28: '국민', 32: '국민', 36: '국민', 40: '국민'}, '출입국자수': {0: 13045329, 4: 14071452, 8: 15196643, 12: 16349538, 16: 19531418, 20: 22654258, 24: 26679527, 28: 28914223, 32: 28889626, 36: 4869578, 40: 1197820}}\n",
            "<class 'numpy.ndarray'>\n",
            "entrance :  [13045329 14071452 15196643 16349538 19531418 22654258 26679527 28914223\n",
            " 28889626  4869578  1197820]\n",
            "departure :  [ 9592545 11056169 12413453 14665282 13901391 17255769 13393163 15418228\n",
            " 17872201  2870505  1082631]\n",
            "[[8.38371384e+13 4.52619321e+13]\n",
            " [4.52619321e+13 2.95285754e+13]]\n",
            "피어슨 상관계수  (0.9096904136341786, 0.00010258690063056352)\n",
            "스피어만 상관계수 :  SpearmanrResult(correlation=0.9, pvalue=0.00015997142806871369)\n"
          ]
        },
        {
          "output_type": "display_data",
          "data": {
            "text/plain": [
              "<Figure size 432x288 with 1 Axes>"
            ],
            "image/png": "[encoded data removed]"
          },
          "metadata": {
            "needs_background": "light"
          }
        }
      ]
    },
    {
      "cell_type": "markdown",
      "source": [
        "# 새 섹션"
      ],
      "metadata": {
        "id": "cLDHTIGcup-A"
      }
    }
  ]
}