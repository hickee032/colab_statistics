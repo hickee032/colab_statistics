{
  "nbformat": 4,
  "nbformat_minor": 0,
  "metadata": {
    "colab": {
      "provenance": []
    },
    "kernelspec": {
      "name": "python3",
      "display_name": "Python 3"
    },
    "language_info": {
      "name": "python"
    }
  },
  "cells": [
    {
      "cell_type": "markdown",
      "source": [
        "폰트 설치 확인"
      ],
      "metadata": {
        "id": "31QcXkXSzEH5"
      }
    },
    {
      "cell_type": "code",
      "execution_count": 14,
      "metadata": {
        "colab": {
          "base_uri": "https://localhost:8080/"
        },
        "id": "e6W-am7brQ2a",
        "outputId": "58d65a84-dc3e-4358-c625-d8fa5fadcaff"
      },
      "outputs": [
        {
          "output_type": "stream",
          "name": "stdout",
          "text": [
            "시스템 폰트의 총 개수: 48\n",
            "시스템 폰트 리스트:  ['/usr/share/fonts/truetype/nanum/NanumSquareL.ttf', '/usr/share/fonts/truetype/nanum/NanumGothicLight.ttf', '/usr/share/fonts/truetype/liberation/LiberationSansNarrow-BoldItalic.ttf', '/usr/share/fonts/truetype/nanum/NanumSquareRoundEB.ttf', '/usr/share/fonts/truetype/liberation/LiberationMono-Regular.ttf', '/usr/share/fonts/truetype/nanum/NanumSquareRoundR.ttf', '/usr/share/fonts/truetype/liberation/LiberationSerif-BoldItalic.ttf', '/usr/share/fonts/truetype/nanum/NanumSquareRoundL.ttf', '/usr/share/fonts/truetype/liberation/LiberationSerif-Italic.ttf', '/usr/share/fonts/truetype/nanum/NanumMyeongjoEcoBold.ttf', '/usr/share/fonts/truetype/nanum/NanumMyeongjoBold.ttf', '/usr/share/fonts/truetype/nanum/NanumSquareB.ttf', '/usr/share/fonts/truetype/liberation/LiberationSans-Bold.ttf', '/usr/share/fonts/truetype/liberation/LiberationMono-Bold.ttf', '/usr/share/fonts/truetype/liberation/LiberationSansNarrow-Italic.ttf', '/usr/share/fonts/truetype/nanum/NanumGothicCoding.ttf', '/usr/share/fonts/truetype/humor-sans/Humor-Sans.ttf', '/usr/share/fonts/truetype/nanum/NanumBarunpenR.ttf', '/usr/share/fonts/truetype/liberation/LiberationSansNarrow-Bold.ttf', '/usr/share/fonts/truetype/nanum/NanumMyeongjoEco.ttf', '/usr/share/fonts/truetype/nanum/NanumMyeongjo.ttf', '/usr/share/fonts/truetype/nanum/NanumBarunGothicLight.ttf', '/usr/share/fonts/truetype/nanum/NanumGothicEco.ttf', '/usr/share/fonts/truetype/liberation/LiberationMono-BoldItalic.ttf', '/usr/share/fonts/truetype/nanum/NanumSquareEB.ttf', '/usr/share/fonts/truetype/nanum/NanumGothicEcoExtraBold.ttf', '/usr/share/fonts/truetype/liberation/LiberationSans-Italic.ttf', '/usr/share/fonts/truetype/liberation/LiberationSerif-Bold.ttf', '/usr/share/fonts/truetype/nanum/NanumBarunGothicBold.ttf', '/usr/share/fonts/truetype/liberation/LiberationSans-Regular.ttf', '/usr/share/fonts/truetype/nanum/NanumBarunpenB.ttf', '/usr/share/fonts/truetype/nanum/NanumBarunGothicUltraLight.ttf', '/usr/share/fonts/truetype/nanum/NanumSquareR.ttf', '/usr/share/fonts/truetype/nanum/NanumMyeongjoEcoExtraBold.ttf', '/usr/share/fonts/truetype/liberation/LiberationSerif-Regular.ttf', '/usr/share/fonts/truetype/nanum/NanumBrush.ttf', '/usr/share/fonts/truetype/nanum/NanumSquareRoundB.ttf', '/usr/share/fonts/truetype/nanum/NanumGothic.ttf', '/usr/share/fonts/truetype/nanum/NanumGothicBold.ttf', '/usr/share/fonts/truetype/nanum/NanumPen.ttf', '/usr/share/fonts/truetype/nanum/NanumMyeongjoExtraBold.ttf', '/usr/share/fonts/truetype/nanum/NanumGothicCoding-Bold.ttf', '/usr/share/fonts/truetype/liberation/LiberationMono-Italic.ttf', '/usr/share/fonts/truetype/nanum/NanumGothicEcoBold.ttf', '/usr/share/fonts/truetype/liberation/LiberationSans-BoldItalic.ttf', '/usr/share/fonts/truetype/nanum/NanumGothicExtraBold.ttf', '/usr/share/fonts/truetype/nanum/NanumBarunGothic.ttf', '/usr/share/fonts/truetype/liberation/LiberationSansNarrow-Regular.ttf']\n",
            "나눔 폰트 종류 개수: 31\n",
            "글꼴 설치됨\n"
          ]
        }
      ],
      "source": [
        "import matplotlib \n",
        "import matplotlib.pyplot as plt \n",
        "import matplotlib.font_manager as fm\n",
        "\n",
        "sys_font=fm.findSystemFonts()\n",
        "print(f\"시스템 폰트의 총 개수: {len(sys_font)}\")\n",
        "print('시스템 폰트 리스트: ', sys_font)\n",
        "\n",
        "nanum_font = [f for f in sys_font if 'Nanum' in f]\n",
        "\n",
        "# 설치할 폰트의 개수 없으면 0\n",
        "print(f\"나눔 폰트 종류 개수: {len(nanum_font)}\")\n",
        "nanum_count = len(nanum_font)\n",
        "\n",
        "if nanum_count == 0 :\n",
        "  print('글꼴 설치필요')\n",
        "else:\n",
        "  print('글꼴 설치됨')  "
      ]
    },
    {
      "cell_type": "markdown",
      "source": [
        "폰트 설치 - 설치 되어 있으면 설치 불필요 함"
      ],
      "metadata": {
        "id": "-eOIKdEHzIeI"
      }
    },
    {
      "cell_type": "code",
      "source": [
        "# 나눔고딕 인스톨\n",
        "!apt-get update -qq\n",
        "!apt-get install fonts-nanum* -qq\n",
        "\n",
        "sys_font=fm.findSystemFonts()\n",
        "print(f\"시스템 폰트의 총 개수: {len(sys_font)}\")  # 늘어나 있는 지 확인 \n",
        "\n",
        "nanum_font = [f for f in sys_font if 'Nanum' in f]\n",
        "print(f\"나눔 폰트 종류 개수: {len(nanum_font)}\")  # 늘어나 있는 지 확인 "
      ],
      "metadata": {
        "id": "EQpXRcYqvNft"
      },
      "execution_count": null,
      "outputs": []
    },
    {
      "cell_type": "markdown",
      "source": [
        "폰트 설치 확인<br/>\n",
        "matplotlib 폰트 설정"
      ],
      "metadata": {
        "id": "wlWJxoEVzK13"
      }
    },
    {
      "cell_type": "code",
      "source": [
        "# 폰트의 경로를 확인 -> 이중에서 선택후 아래 세션에서 path를 설정함\n",
        "nanum_font"
      ],
      "metadata": {
        "id": "KaYeaOEV0hTQ"
      },
      "execution_count": null,
      "outputs": []
    },
    {
      "cell_type": "code",
      "source": [
        "# 버전 확인 필요 파이썬 3.6 이상 사용가능하다 \n",
        "# 아래 버전에서는 사용 불가 \n",
        "\n",
        "!python --version\n",
        "\n",
        "def current_font():\n",
        "  print(f\"설정 폰트 글꼴: {plt.rcParams['font.family']}\")  \n",
        "        \n",
        "current_font() # 설정 전 폰트\n",
        "\n",
        "path = '/usr/share/fonts/truetype/nanum/NanumGothicEco.ttf'  # 설치된 나눔 글꼴중 원하는 글꼴의 전체 경로 필요 ( 위에 세션을 통해 확인 )\n",
        "font_name = fm.FontProperties(fname=path, size=10).get_name()\n",
        "print(font_name)\n",
        "plt.rc('font', family=font_name)\n",
        "\n",
        "\n",
        "fm._rebuild() # 폰트 매니저 다시 빌드\n",
        "current_font() #설정 후 폰트 확인 \n",
        "\n",
        "# 마이너스 부호 처리\n",
        "matplotlib.rcParams['axes.unicode_minus'] = False"
      ],
      "metadata": {
        "colab": {
          "base_uri": "https://localhost:8080/"
        },
        "id": "rVv7WZf7toAd",
        "outputId": "ab32deb0-07f2-4c74-af37-c71cf4679b8c"
      },
      "execution_count": 12,
      "outputs": [
        {
          "output_type": "stream",
          "name": "stdout",
          "text": [
            "Python 3.8.10\n",
            "설정 폰트 글꼴: ['sans-serif']\n",
            "NanumGothic Eco\n",
            "설정 폰트 글꼴: ['NanumGothic Eco']\n"
          ]
        }
      ]
    },
    {
      "cell_type": "code",
      "source": [
        "# 테스트\n",
        "import numpy as np\n",
        "import pandas as pd\n",
        "import seaborn as sns\n",
        "\n",
        "# 중심 극한 정리\n",
        "def central_limit_th(cnt):\n",
        "  bag_of_mean = []\n",
        "  for i in range(cnt):\n",
        "    # 이항분포에서 랜덤 표본 추출\n",
        "    m = np.random.binomial(n=1,p=0.5,size=100).mean()\n",
        "    bag_of_mean.append(m)    \n",
        "  \n",
        "  df = pd.DataFrame(bag_of_mean)\n",
        "  # plt.hist(df)\n",
        "  ax = sns.histplot(df)\n",
        "  plt.title(f'표본 데이터 {cnt} 수집')\n",
        "  plt.xlabel('$\\sigma^2$')\n",
        "  plt.ylabel('빈도수')\n",
        "  plt.show()\n",
        "\n",
        "central_limit_th(1000)"
      ],
      "metadata": {
        "colab": {
          "base_uri": "https://localhost:8080/",
          "height": 297
        },
        "id": "N31WRRzt06Lf",
        "outputId": "dd3ad598-5227-452e-f222-9c201dd90b00"
      },
      "execution_count": 13,
      "outputs": [
        {
          "output_type": "display_data",
          "data": {
            "text/plain": [
              "<Figure size 432x288 with 1 Axes>"
            ],
            "image/png": "[encoded data removed]"
          },
          "metadata": {
            "needs_background": "light"
          }
        }
      ]
    }
  ]
}